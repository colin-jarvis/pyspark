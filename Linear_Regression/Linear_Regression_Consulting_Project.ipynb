{
 "cells": [
  {
   "cell_type": "markdown",
   "metadata": {},
   "source": [
    "# Linear Regression Consulting Project"
   ]
  },
  {
   "cell_type": "markdown",
   "metadata": {
    "collapsed": true
   },
   "source": [
    "Congratulations! You've been contracted by Hyundai Heavy Industries to help them build a predictive model for some ships. [Hyundai Heavy Industries](http://www.hyundai.eu/en) is one of the world's largest ship manufacturing companies and builds cruise liners.\n",
    "\n",
    "You've been flown to their headquarters in Ulsan, South Korea to help them give accurate estimates of how many crew members a ship will require.\n",
    "\n",
    "They are currently building new ships for some customers and want you to create a model and use it to predict how many crew members the ships will need.\n",
    "\n",
    "Here is what the data looks like so far:\n",
    "\n",
    "    Description: Measurements of ship size, capacity, crew, and age for 158 cruise\n",
    "    ships.\n",
    "\n",
    "\n",
    "    Variables/Columns\n",
    "    Ship Name     1-20\n",
    "    Cruise Line   21-40\n",
    "    Age (as of 2013)   46-48\n",
    "    Tonnage (1000s of tons)   50-56\n",
    "    passengers (100s)   58-64\n",
    "    Length (100s of feet)  66-72\n",
    "    Cabins  (100s)   74-80\n",
    "    Passenger Density   82-88\n",
    "    Crew  (100s)   90-96\n",
    "    \n",
    "It is saved in a csv file for you called \"cruise_ship_info.csv\". Your job is to create a regression model that will help predict how many crew members will be needed for future ships. The client also mentioned that they have found that particular cruise lines will differ in acceptable crew counts, so it is most likely an important feature to include in your analysis! \n",
    "\n",
    "Once you've created the model and tested it for a quick check on how well you can expect it to perform, make sure you take a look at why it performs so well!"
   ]
  },
  {
   "cell_type": "code",
   "execution_count": 35,
   "metadata": {},
   "outputs": [],
   "source": [
    "from pyspark.sql import SparkSession\n",
    "from pyspark.sql.functions import row_number\n",
    "from pyspark.ml.regression import LinearRegression\n",
    "from pyspark.ml.feature import StringIndexer, VectorAssembler\n",
    "from pyspark.ml.linalg import Vectors\n",
    "spark = SparkSession.builder.appName('lr_consulting').getOrCreate()"
   ]
  },
  {
   "cell_type": "code",
   "execution_count": 25,
   "metadata": {},
   "outputs": [
    {
     "data": {
      "text/plain": [
       "Row(Ship_name='Journey', Cruise_line='Azamara', Age=6, Tonnage=30.276999999999997, passengers=6.94, length=5.94, cabins=3.55, passenger_density=42.64, crew=3.55)"
      ]
     },
     "execution_count": 25,
     "metadata": {},
     "output_type": "execute_result"
    }
   ],
   "source": [
    "data = spark.read.csv('cruise_ship_info.csv',inferSchema=True,header=True)\n",
    "data.head(1)[0]"
   ]
  },
  {
   "cell_type": "code",
   "execution_count": 4,
   "metadata": {},
   "outputs": [
    {
     "name": "stdout",
     "output_type": "stream",
     "text": [
      "root\n",
      " |-- Ship_name: string (nullable = true)\n",
      " |-- Cruise_line: string (nullable = true)\n",
      " |-- Age: integer (nullable = true)\n",
      " |-- Tonnage: double (nullable = true)\n",
      " |-- passengers: double (nullable = true)\n",
      " |-- length: double (nullable = true)\n",
      " |-- cabins: double (nullable = true)\n",
      " |-- passenger_density: double (nullable = true)\n",
      " |-- crew: double (nullable = true)\n",
      "\n"
     ]
    }
   ],
   "source": [
    "data.printSchema()"
   ]
  },
  {
   "cell_type": "code",
   "execution_count": 8,
   "metadata": {},
   "outputs": [
    {
     "name": "stdout",
     "output_type": "stream",
     "text": [
      "root\n",
      " |-- Ship_name: string (nullable = true)\n",
      " |-- Cruise_line: string (nullable = true)\n",
      " |-- Age: integer (nullable = true)\n",
      " |-- Tonnage: double (nullable = true)\n",
      " |-- passengers: double (nullable = true)\n",
      " |-- length: double (nullable = true)\n",
      " |-- cabins: double (nullable = true)\n",
      " |-- passenger_density: double (nullable = true)\n",
      " |-- crew: double (nullable = true)\n",
      " |-- Cruise_line_values: double (nullable = false)\n",
      "\n"
     ]
    }
   ],
   "source": [
    "# Change this to use oneHot encoding\n",
    "indexer = StringIndexer(inputCol=\"Cruise_line\", outputCol=\"Cruise_line_values\")\n",
    "dataPrepped = indexer.fit(data).transform(data)\n",
    "dataPrepped.printSchema()"
   ]
  },
  {
   "cell_type": "code",
   "execution_count": 37,
   "metadata": {},
   "outputs": [
    {
     "name": "stdout",
     "output_type": "stream",
     "text": [
      "+-------------+----------------+---+-----------------+----------+------+------+-----------------+-----+------------------+-----+\n",
      "|    Ship_name|     Cruise_line|Age|          Tonnage|passengers|length|cabins|passenger_density| crew|Cruise_line_values|index|\n",
      "+-------------+----------------+---+-----------------+----------+------+------+-----------------+-----+------------------+-----+\n",
      "|    Adventure| Royal_Caribbean| 12|            138.0|     31.14|  10.2| 15.57|            44.32|11.85|               0.0|    1|\n",
      "|      Allegra|           Costa| 21|            28.43|      8.08|  6.16|   4.1|            35.19|  4.0|               5.0|    2|\n",
      "|    Amsterdam|Holland_American| 13|             61.0|      13.8|   7.8|  6.88|             44.2|  6.0|               3.0|    3|\n",
      "|      Arcadia|             P&O|  9|             85.0|     19.68|  9.35|  9.84|            43.19| 8.69|               9.0|    4|\n",
      "|        Aries|            Star| 22|            3.341|      0.66|   2.8|  0.33|            50.62| 0.59|               8.0|    5|\n",
      "|      Armonia|             MSC| 12|             58.6|     15.66|  8.24|  7.83|            37.42|  7.0|               7.0|    6|\n",
      "|      Artemis|             P&O| 29|             45.0|     11.78|  7.54|   5.3|             38.2|  5.2|               9.0|    7|\n",
      "|    Atlantica|           Costa| 13|           85.619|     21.14|  9.57| 10.56|             40.5|  9.2|               5.0|    8|\n",
      "|       Aurora|             P&O| 13|             76.0|     18.74|  8.86|  9.39|            40.55|  8.5|               9.0|    9|\n",
      "|   Brilliance| Royal_Caribbean| 11|            90.09|     25.01|  9.62|  10.5|            36.02| 8.48|               0.0|   10|\n",
      "|    Caribbean|        Princess|  9|            116.0|      26.0|  9.51|  13.0|            44.62| 11.0|               2.0|   11|\n",
      "|  Celebration|        Carnival| 26|           47.262|     14.86|  7.22|  7.43|             31.8|  6.7|               1.0|   12|\n",
      "|      Century|       Celebrity| 18|70.60600000000001|      17.7|  8.15|  8.75|            39.89| 8.58|               6.0|   13|\n",
      "|     Classica|           Costa| 22|           52.926|     13.02|  7.18|  6.54|            40.65| 6.17|               5.0|   14|\n",
      "|        Cloud|       Silversea| 19|             16.8|      2.96|  5.14|  1.48|            56.76|  2.1|              11.0|   15|\n",
      "|     Conquest|        Carnival| 11|            110.0|     29.74|  9.53| 14.88|            36.99| 19.1|               1.0|   16|\n",
      "|Constellation|       Celebrity| 11|             91.0|     20.32|  9.65|  9.75|            44.78| 9.99|               6.0|   17|\n",
      "|        Coral|        Princess| 11|91.62700000000001|     19.74|  9.64|  9.87|            46.42|  9.0|               2.0|   18|\n",
      "|        Crown|       Norwegian| 25|            34.25|     10.52|  6.15|  5.26|            32.56|  4.7|               4.0|   19|\n",
      "|        Crown|        Princess|  7|            116.0|      31.0|  9.51| 15.57|            37.42| 12.0|               2.0|   20|\n",
      "+-------------+----------------+---+-----------------+----------+------+------+-----------------+-----+------------------+-----+\n",
      "only showing top 20 rows\n",
      "\n"
     ]
    }
   ],
   "source": [
    "from pyspark.sql.window import Window\n",
    "w = Window.orderBy('Ship_name') \n",
    "dataIndexed = dataPrepped.withColumn(\"index\", row_number().over(w))\n",
    "dataIndexed.sort('index').show()"
   ]
  },
  {
   "cell_type": "code",
   "execution_count": 12,
   "metadata": {},
   "outputs": [
    {
     "data": {
      "text/plain": [
       "['Age',\n",
       " 'Tonnage',\n",
       " 'passengers',\n",
       " 'length',\n",
       " 'cabins',\n",
       " 'passenger_density',\n",
       " 'Cruise_line_values']"
      ]
     },
     "execution_count": 12,
     "metadata": {},
     "output_type": "execute_result"
    }
   ],
   "source": [
    "desired_features = (['Age', 'Tonnage', 'passengers','length','cabins','passenger_density','Cruise_line_values'])\n",
    "desired_features"
   ]
  },
  {
   "cell_type": "code",
   "execution_count": 39,
   "metadata": {},
   "outputs": [
    {
     "name": "stdout",
     "output_type": "stream",
     "text": [
      "root\n",
      " |-- Ship_name: string (nullable = true)\n",
      " |-- Cruise_line: string (nullable = true)\n",
      " |-- Age: integer (nullable = true)\n",
      " |-- Tonnage: double (nullable = true)\n",
      " |-- passengers: double (nullable = true)\n",
      " |-- length: double (nullable = true)\n",
      " |-- cabins: double (nullable = true)\n",
      " |-- passenger_density: double (nullable = true)\n",
      " |-- crew: double (nullable = true)\n",
      " |-- Cruise_line_values: double (nullable = false)\n",
      " |-- index: integer (nullable = true)\n",
      " |-- features: vector (nullable = true)\n",
      "\n"
     ]
    }
   ],
   "source": [
    "assembler = VectorAssembler(inputCols=desired_features,outputCol='features')\n",
    "model_input = assembler.transform(dataIndexed)\n",
    "model_input.printSchema()"
   ]
  },
  {
   "cell_type": "code",
   "execution_count": 62,
   "metadata": {},
   "outputs": [],
   "source": [
    "train_data,test_data = model_input.randomSplit([0.7,0.3],seed=42)"
   ]
  },
  {
   "cell_type": "code",
   "execution_count": 63,
   "metadata": {},
   "outputs": [
    {
     "name": "stdout",
     "output_type": "stream",
     "text": [
      "+-------+---------+-----------+------------------+-----------------+------------------+------------------+-----------------+-----------------+------------------+------------------+-----------------+\n",
      "|summary|Ship_name|Cruise_line|               Age|          Tonnage|        passengers|            length|           cabins|passenger_density|              crew|Cruise_line_values|            index|\n",
      "+-------+---------+-----------+------------------+-----------------+------------------+------------------+-----------------+-----------------+------------------+------------------+-----------------+\n",
      "|  count|      120|        120|               120|              120|               120|               120|              120|              120|               120|               120|              120|\n",
      "|   mean|     null|       null|15.741666666666667|71.30205000000002|18.541166666666673| 8.161916666666663| 8.87966666666667|         39.96025| 7.836250000000005|               4.8|79.05833333333334|\n",
      "| stddev|     null|       null| 7.805940243252731|34.85384159887056| 9.231066398999909|1.6863910527849597|4.237290820961025|8.882955869472253|3.3283541400386776| 4.606535364808013|45.05632251837197|\n",
      "|    min|Adventure|    Azamara|                 5|            3.341|              0.66|               2.8|             0.33|             17.7|              0.59|               0.0|                1|\n",
      "|    max|Zuiderdam|   Windstar|                48|            160.0|              43.7|             11.25|            18.17|            71.43|              19.1|              19.0|              158|\n",
      "+-------+---------+-----------+------------------+-----------------+------------------+------------------+-----------------+-----------------+------------------+------------------+-----------------+\n",
      "\n"
     ]
    }
   ],
   "source": [
    "train_data.describe().show()"
   ]
  },
  {
   "cell_type": "code",
   "execution_count": 64,
   "metadata": {},
   "outputs": [
    {
     "name": "stdout",
     "output_type": "stream",
     "text": [
      "+-------+---------+-----------+------------------+-----------------+------------------+------------------+----------------+-----------------+------------------+------------------+-----------------+\n",
      "|summary|Ship_name|Cruise_line|               Age|          Tonnage|        passengers|            length|          cabins|passenger_density|              crew|Cruise_line_values|            index|\n",
      "+-------+---------+-----------+------------------+-----------------+------------------+------------------+----------------+-----------------+------------------+------------------+-----------------+\n",
      "|  count|       38|         38|                38|               38|                38|                38|              38|               38|                38|                38|               38|\n",
      "|   mean| Infinity|       null|15.526315789473685|71.22978947368422|18.192894736842106| 8.031842105263156|8.67315789473684|39.71368421052631| 7.661315789473684| 5.894736842105263|80.89473684210526|\n",
      "| stddev|      NaN|       null| 7.077703254378587|44.43272315149257|11.099852910614125|2.1186671680540194|5.20176326927039|7.929055504590638|4.0534450953263255|5.1872477401860655|  48.491732075258|\n",
      "|    min|  Allegra|   Carnival|                 4|            2.329|              0.66|              2.79|            0.33|            24.04|              0.59|               0.0|                2|\n",
      "|    max|  Zaandam|   Windstar|                40|            220.0|              54.0|             11.82|            27.0|            57.79|              21.0|              18.0|              156|\n",
      "+-------+---------+-----------+------------------+-----------------+------------------+------------------+----------------+-----------------+------------------+------------------+-----------------+\n",
      "\n"
     ]
    }
   ],
   "source": [
    "test_data.describe().show()"
   ]
  },
  {
   "cell_type": "code",
   "execution_count": 65,
   "metadata": {},
   "outputs": [],
   "source": [
    "lr = LinearRegression(featuresCol='features',labelCol='crew')\n",
    "lr_model = lr.fit(train_data)"
   ]
  },
  {
   "cell_type": "code",
   "execution_count": 66,
   "metadata": {},
   "outputs": [],
   "source": [
    "lr_results = lr_model.evaluate(test_data)"
   ]
  },
  {
   "cell_type": "code",
   "execution_count": 73,
   "metadata": {},
   "outputs": [
    {
     "name": "stdout",
     "output_type": "stream",
     "text": [
      "+-------------+----------------+---+------------------+----------+------+------+-----------------+-----+------------------+-----+--------------------+------------------+\n",
      "|    Ship_name|     Cruise_line|Age|           Tonnage|passengers|length|cabins|passenger_density| crew|Cruise_line_values|index|            features|        prediction|\n",
      "+-------------+----------------+---+------------------+----------+------+------+-----------------+-----+------------------+-----+--------------------+------------------+\n",
      "|      Allegra|           Costa| 21|             28.43|      8.08|  6.16|   4.1|            35.19|  4.0|               5.0|    2|[21.0,28.43,8.08,...|  4.08899693096193|\n",
      "|    Amsterdam|Holland_American| 13|              61.0|      13.8|   7.8|  6.88|             44.2|  6.0|               3.0|    3|[13.0,61.0,13.8,7...|  6.56896710699492|\n",
      "|      Arcadia|             P&O|  9|              85.0|     19.68|  9.35|  9.84|            43.19| 8.69|               9.0|    4|[9.0,85.0,19.68,9...| 9.358255227150611|\n",
      "|     Classica|           Costa| 22|            52.926|     13.02|  7.18|  6.54|            40.65| 6.17|               5.0|   14|[22.0,52.926,13.0...| 5.991474317076037|\n",
      "|Constellation|       Celebrity| 11|              91.0|     20.32|  9.65|  9.75|            44.78| 9.99|               6.0|   17|[11.0,91.0,20.32,...| 9.176794542835465|\n",
      "|      Elation|        Carnival| 15|            70.367|     20.52|  8.55|  10.2|            34.29|  9.2|               1.0|   27|[15.0,70.367,20.5...| 8.745313454271923|\n",
      "|      Empress| Royal_Caribbean| 23|            48.563|      20.2|  6.92|   8.0|            24.04| 6.71|               0.0|   29|[23.0,48.563,20.2...| 5.916311964604022|\n",
      "|  Enchantment| Royal_Caribbean| 16|            74.137|      19.5|  9.16|  9.75|            38.02|  7.6|               0.0|   30|[16.0,74.137,19.5...| 8.711773469303747|\n",
      "|     Fantasia|             MSC|  5|             133.5|     39.59| 10.93| 16.37|            33.72|13.13|               7.0|   35|[5.0,133.5,39.59,...|13.029730749937531|\n",
      "|      Fantasy|        Carnival| 23|            70.367|     20.56|  8.55| 10.22|            34.23|  9.2|               1.0|   36|[23.0,70.367,20.5...| 8.595044399541361|\n",
      "|     Infinity|       Celebrity| 12|              91.0|     20.32|  9.65|  9.75|            44.78| 9.99|               6.0|   51|[12.0,91.0,20.32,...| 9.156539058184974|\n",
      "|     Insignia|         Oceania| 15|30.276999999999997|      6.84|  5.94|  3.42|            44.26|  4.0|              12.0|   52|[15.0,30.27699999...| 3.964450150855748|\n",
      "|       Island|        Princess| 10| 91.62700000000001|     19.74|  9.64|  9.87|            46.42|  9.0|               2.0|   54|[10.0,91.62700000...| 9.226459892959737|\n",
      "|        Jewel| Royal_Caribbean|  9|             90.09|     25.01|  9.62| 10.94|            36.02| 8.69|               0.0|   56|[9.0,90.09,25.01,...|  9.34616873166238|\n",
      "|       Legend|        Seabourn| 21|              10.0|      2.08|   4.4|  1.04|            48.08|  1.6|              13.0|   60|[21.0,10.0,2.08,4...|1.7606759878860418|\n",
      "|       Lirica|             MSC| 10|            58.825|      15.6|  8.23|  7.65|            37.71|  7.0|               7.0|   64|[10.0,58.825,15.6...|7.3854060322232105|\n",
      "|        Magic|          Disney| 15|            83.338|      17.5|  9.64|  8.75|            47.62| 9.45|              17.0|   66|[15.0,83.338,17.5...| 9.023592494454972|\n",
      "|      Majesty| Royal_Caribbean| 21|            73.941|     27.44|   8.8| 11.75|            26.95| 8.22|               0.0|   69|[21.0,73.941,27.4...| 9.071895603089622|\n",
      "|    Millenium|       Celebrity| 13|              91.0|     20.32|  9.65|  9.75|            44.78| 9.99|               6.0|   77|[13.0,91.0,20.32,...| 9.136283573534483|\n",
      "|    Navigator| Royal_Caribbean| 11|             138.0|     31.14|  10.2| 15.57|            44.32|11.85|               0.0|   83|[11.0,138.0,31.14...|12.833969940836758|\n",
      "+-------------+----------------+---+------------------+----------+------+------+-----------------+-----+------------------+-----+--------------------+------------------+\n",
      "only showing top 20 rows\n",
      "\n"
     ]
    }
   ],
   "source": [
    "lr_results.predictions.show()"
   ]
  },
  {
   "cell_type": "code",
   "execution_count": 67,
   "metadata": {
    "scrolled": true
   },
   "outputs": [
    {
     "data": {
      "text/plain": [
       "0.6701835999203916"
      ]
     },
     "execution_count": 67,
     "metadata": {},
     "output_type": "execute_result"
    }
   ],
   "source": [
    "lr_results.rootMeanSquaredError"
   ]
  },
  {
   "cell_type": "code",
   "execution_count": 68,
   "metadata": {},
   "outputs": [
    {
     "data": {
      "text/plain": [
       "0.9719249282421449"
      ]
     },
     "execution_count": 68,
     "metadata": {},
     "output_type": "execute_result"
    }
   ],
   "source": [
    "lr_results.r2"
   ]
  },
  {
   "cell_type": "code",
   "execution_count": 69,
   "metadata": {},
   "outputs": [
    {
     "data": {
      "text/plain": [
       "0.5522351972905482"
      ]
     },
     "execution_count": 69,
     "metadata": {},
     "output_type": "execute_result"
    }
   ],
   "source": [
    "lr_results.meanAbsoluteError"
   ]
  },
  {
   "cell_type": "markdown",
   "metadata": {},
   "source": [
    "## Boris' assignment\n",
    "The client accepts error within 0.2. How often are we within 0.2 of the actual\n",
    "\n",
    "You can automatically accept all 95% or greater process\n",
    "\n",
    "- Figure out how to link results with original data\n",
    "- Figure out the error for each\n",
    "- Provide result"
   ]
  },
  {
   "cell_type": "code",
   "execution_count": null,
   "metadata": {},
   "outputs": [],
   "source": []
  }
 ],
 "metadata": {
  "anaconda-cloud": {},
  "kernelspec": {
   "display_name": "Python 3",
   "language": "python",
   "name": "python3"
  },
  "language_info": {
   "codemirror_mode": {
    "name": "ipython",
    "version": 3
   },
   "file_extension": ".py",
   "mimetype": "text/x-python",
   "name": "python",
   "nbconvert_exporter": "python",
   "pygments_lexer": "ipython3",
   "version": "3.7.7"
  }
 },
 "nbformat": 4,
 "nbformat_minor": 1
}
